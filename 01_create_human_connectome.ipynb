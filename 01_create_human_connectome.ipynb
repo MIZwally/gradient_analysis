{
 "cells": [
  {
   "cell_type": "code",
   "execution_count": 1,
   "metadata": {
    "collapsed": true
   },
   "outputs": [],
   "source": [
    "# Download HCP 820 dense connectome:\n",
    "# HCP_S900_820_rfMRI_MSMAll_groupPCA_d4500ROW_zcorr.dconn.nii"
   ]
  },
  {
   "cell_type": "code",
   "execution_count": null,
   "metadata": {
    "collapsed": true
   },
   "outputs": [],
   "source": [
    "import numpy as np\n",
    "import nibabel as nib # git clone --branch enh/cifti2 https://github.com/satra/nibabel.git\n",
    "from sklearn.metrics import pairwise_distances\n",
    "\n",
    "# Load data and Fisher's z-to-r transform\n",
    "dcon = np.tanh(nib.load('HCP_S900_820_rfMRI_MSMAll_groupPCA_d4500ROW_zcorr.dconn.nii').data)\n",
    "\n",
    "# Get number of nodes\n",
    "N = dcon.shape[0]\n",
    "\n",
    "# Generate percentile thresholds for 90th percentile\n",
    "perc = np.array([np.percentile(x, 90) for x in dcon])\n",
    "\n",
    "# Threshold each row of the matrix by setting values below 90th percentile to 0\n",
    "for i in range(dcon.shape[0]):\n",
    "  print("Row", i)\n",
    "  dcon[i, dcon[i,:] < perc[i]] = 0    "
   ]
  },
  {
   "cell_type": "code",
   "execution_count": null,
   "metadata": {
    "collapsed": true
   },
   "outputs": [],
   "source": [
    "# Check for minimum value\n",
    "print("Minimum value is ", dcon.min())\n",
    "\n",
    "# The negative values are very small, but we need to know how many nodes have negative values\n",
    "# Count negative values per row\n",
    "neg_values = np.array([sum(dcon[i,:] < 0) for i in range(N)])\n",
    "print("Negative values occur in ", sum(neg_values > 0), "rows\n",
    "\n",
    "# Since there are only 23 vertices with total of 5000 very small negative values, we set these to zero\n",
    "dcon[dcon < 0] = 0"
   ]
  },
  {
   "cell_type": "code",
   "execution_count": null,
   "metadata": {
    "collapsed": true
   },
   "outputs": [],
   "source": [
    "# Now we are dealing with sparse vectors. Cosine similarity is used as affinity metric\n",
    "aff = 1 - pairwise_distances(dcon, metric = 'cosine')"
   ]
  },
  {
   "cell_type": "code",
   "execution_count": null,
   "metadata": {
    "collapsed": true
   },
   "outputs": [],
   "source": [
    "# Save affinity matrix\n",
    "np.save('gradient_data/conn_matrices/cosine_affinity.npy', aff)"
   ]
  }
 ],
 "metadata": {
  "kernelspec": {
   "display_name": "Python 2",
   "language": "python",
   "name": "python2"
  },
  "language_info": {
   "codemirror_mode": {
    "name": "ipython",
    "version": 2
   },
   "file_extension": ".py",
   "mimetype": "text/x-python",
   "name": "python",
   "nbconvert_exporter": "python",
   "pygments_lexer": "ipython2",
   "version": "2.7.11"
  }
 },
 "nbformat": 4,
 "nbformat_minor": 0
}
